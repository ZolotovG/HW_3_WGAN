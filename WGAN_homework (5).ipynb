{
  "nbformat": 4,
  "nbformat_minor": 0,
  "metadata": {
    "kernelspec": {
      "display_name": "Python 3 (datadrive)",
      "language": "python",
      "name": "python3"
    },
    "language_info": {
      "codemirror_mode": {
        "name": "ipython",
        "version": 3
      },
      "file_extension": ".py",
      "mimetype": "text/x-python",
      "name": "python",
      "nbconvert_exporter": "python",
      "pygments_lexer": "ipython3",
      "version": "3.7.4"
    },
    "colab": {
      "name": "WGAN_homework.ipynb",
      "provenance": []
    }
  },
  "cells": [
    {
      "cell_type": "code",
      "metadata": {
        "id": "DZaJmw5fR9nu",
        "colab_type": "code",
        "colab": {
          "base_uri": "https://localhost:8080/",
          "height": 581
        },
        "outputId": "80138129-0cd5-4a4a-871e-776b64917e89"
      },
      "source": [
        "import os\n",
        "os.environ[\"CUDA_VISIBLE_DEVICES\"]='1'\n",
        "\n",
        "\n",
        "%pip install comet_ml\n",
        "from comet_ml import Experiment"
      ],
      "execution_count": 1,
      "outputs": [
        {
          "output_type": "stream",
          "text": [
            "Collecting comet_ml\n",
            "\u001b[?25l  Downloading https://files.pythonhosted.org/packages/d3/c3/0e46ea9ccb0a761f005dbde4fe0bd884308251e1a854987ef610659fc09c/comet_ml-3.1.3-py2.py3-none-any.whl (186kB)\n",
            "\r\u001b[K     |█▊                              | 10kB 17.7MB/s eta 0:00:01\r\u001b[K     |███▌                            | 20kB 1.7MB/s eta 0:00:01\r\u001b[K     |█████▎                          | 30kB 2.5MB/s eta 0:00:01\r\u001b[K     |███████                         | 40kB 1.7MB/s eta 0:00:01\r\u001b[K     |████████▊                       | 51kB 2.1MB/s eta 0:00:01\r\u001b[K     |██████████▌                     | 61kB 2.5MB/s eta 0:00:01\r\u001b[K     |████████████▎                   | 71kB 2.9MB/s eta 0:00:01\r\u001b[K     |██████████████                  | 81kB 3.3MB/s eta 0:00:01\r\u001b[K     |███████████████▉                | 92kB 3.7MB/s eta 0:00:01\r\u001b[K     |█████████████████▌              | 102kB 2.8MB/s eta 0:00:01\r\u001b[K     |███████████████████▎            | 112kB 2.8MB/s eta 0:00:01\r\u001b[K     |█████████████████████           | 122kB 2.8MB/s eta 0:00:01\r\u001b[K     |██████████████████████▉         | 133kB 2.8MB/s eta 0:00:01\r\u001b[K     |████████████████████████▋       | 143kB 2.8MB/s eta 0:00:01\r\u001b[K     |██████████████████████████▎     | 153kB 2.8MB/s eta 0:00:01\r\u001b[K     |████████████████████████████    | 163kB 2.8MB/s eta 0:00:01\r\u001b[K     |█████████████████████████████▉  | 174kB 2.8MB/s eta 0:00:01\r\u001b[K     |███████████████████████████████▋| 184kB 2.8MB/s eta 0:00:01\r\u001b[K     |████████████████████████████████| 194kB 2.8MB/s \n",
            "\u001b[?25hCollecting netifaces>=0.10.7\n",
            "  Downloading https://files.pythonhosted.org/packages/0c/9b/c4c7eb09189548d45939a3d3a6b3d53979c67d124459b27a094c365c347f/netifaces-0.10.9-cp36-cp36m-manylinux1_x86_64.whl\n",
            "Collecting everett[ini]>=1.0.1; python_version >= \"3.0\"\n",
            "  Downloading https://files.pythonhosted.org/packages/12/34/de70a3d913411e40ce84966f085b5da0c6df741e28c86721114dd290aaa0/everett-1.0.2-py2.py3-none-any.whl\n",
            "Requirement already satisfied: nvidia-ml-py3>=7.352.0 in /usr/local/lib/python3.6/dist-packages (from comet_ml) (7.352.0)\n",
            "Requirement already satisfied: jsonschema<3.1.0,>=2.6.0 in /usr/local/lib/python3.6/dist-packages (from comet_ml) (2.6.0)\n",
            "Requirement already satisfied: six in /usr/local/lib/python3.6/dist-packages (from comet_ml) (1.12.0)\n",
            "Collecting websocket-client>=0.55.0\n",
            "\u001b[?25l  Downloading https://files.pythonhosted.org/packages/4c/5f/f61b420143ed1c8dc69f9eaec5ff1ac36109d52c80de49d66e0c36c3dfdf/websocket_client-0.57.0-py2.py3-none-any.whl (200kB)\n",
            "\u001b[K     |████████████████████████████████| 204kB 47.8MB/s \n",
            "\u001b[?25hCollecting wurlitzer>=1.0.2\n",
            "  Downloading https://files.pythonhosted.org/packages/24/5e/f3bd8443bfdf96d2f5d10097d301076a9eb55637b7864e52d2d1a4d8c72a/wurlitzer-2.0.0-py2.py3-none-any.whl\n",
            "Requirement already satisfied: requests>=2.18.4 in /usr/local/lib/python3.6/dist-packages (from comet_ml) (2.21.0)\n",
            "Collecting comet-git-pure>=0.19.11\n",
            "\u001b[?25l  Downloading https://files.pythonhosted.org/packages/56/2b/c1ca11a237e3fcbe0c1ea53134901f30f3aa657e5ea141dccaae0f46df0e/comet_git_pure-0.19.15-py3-none-any.whl (401kB)\n",
            "\u001b[K     |████████████████████████████████| 409kB 42.4MB/s \n",
            "\u001b[?25hCollecting configobj; extra == \"ini\"\n",
            "  Downloading https://files.pythonhosted.org/packages/64/61/079eb60459c44929e684fa7d9e2fdca403f67d64dd9dbac27296be2e0fab/configobj-5.0.6.tar.gz\n",
            "Requirement already satisfied: urllib3<1.25,>=1.21.1 in /usr/local/lib/python3.6/dist-packages (from requests>=2.18.4->comet_ml) (1.24.3)\n",
            "Requirement already satisfied: chardet<3.1.0,>=3.0.2 in /usr/local/lib/python3.6/dist-packages (from requests>=2.18.4->comet_ml) (3.0.4)\n",
            "Requirement already satisfied: certifi>=2017.4.17 in /usr/local/lib/python3.6/dist-packages (from requests>=2.18.4->comet_ml) (2019.11.28)\n",
            "Requirement already satisfied: idna<2.9,>=2.5 in /usr/local/lib/python3.6/dist-packages (from requests>=2.18.4->comet_ml) (2.8)\n",
            "Building wheels for collected packages: configobj\n",
            "  Building wheel for configobj (setup.py) ... \u001b[?25l\u001b[?25hdone\n",
            "  Created wheel for configobj: filename=configobj-5.0.6-cp36-none-any.whl size=34546 sha256=a5a5e27df30d1de2011768565325920108c8840b9554f015c39ea7c544480d63\n",
            "  Stored in directory: /root/.cache/pip/wheels/f1/e4/16/4981ca97c2d65106b49861e0b35e2660695be7219a2d351ee0\n",
            "Successfully built configobj\n",
            "Installing collected packages: netifaces, configobj, everett, websocket-client, wurlitzer, comet-git-pure, comet-ml\n",
            "Successfully installed comet-git-pure-0.19.15 comet-ml-3.1.3 configobj-5.0.6 everett-1.0.2 netifaces-0.10.9 websocket-client-0.57.0 wurlitzer-2.0.0\n"
          ],
          "name": "stdout"
        }
      ]
    },
    {
      "cell_type": "markdown",
      "metadata": {
        "id": "uuG8wc_tR9n-",
        "colab_type": "text"
      },
      "source": [
        "### This notebook:\n",
        "###### 1. Super-quick intro into BaBar DIRC subdetector\n",
        "###### 2. You create a WGAP-GP GAN\n",
        "\n",
        "###### BaBar DIRC:\n",
        "![image](https://www.slac.stanford.edu/BFROOT/www/Detector/DIRC/Gifs/NewDirc.gif)"
      ]
    },
    {
      "cell_type": "markdown",
      "metadata": {
        "id": "B3BhqTdgR9oA",
        "colab_type": "text"
      },
      "source": [
        "Detection of Internally Reflected Cherenkov light - a particle identification detector in other words.\n",
        "We will only generate high-level observables (particle delta log-likelihoods (DLL)) that are obtained after the reconstruction.\n",
        "\n",
        "We want the generation to be conditional on full kinematics of event: energy, pseudorapidity and the distance between the particle track and DIRC bar side of signal particle. For the data-driven GAN this is just 11-D tabular data.\n",
        "\n",
        "Data was generated with FastDIRC modified to simulate two particle-events."
      ]
    },
    {
      "cell_type": "markdown",
      "metadata": {
        "id": "5rP-_WUOR9oB",
        "colab_type": "text"
      },
      "source": [
        "Эта тетрадка сделана так, чтобы быть и семинарской тетрадкой и домашкой.\n",
        "\n",
        "### Задача\n",
        "A couple of years ago this would have been a paper in a good journal, now should be doable in 20-60 minutes*:\n",
        "* after Denis Derkach formulated the problem and ёж did all the dirty work of getting training data\n",
        "\n",
        "Задача в общем виде выглядит как:\n",
        "\n",
        "Create a conditional **GAN NAME** to generate Y given X\n",
        "\n",
        "\n",
        "### Задачи:\n",
        "\n",
        "1. JS-GAN, 1.5 балла\n",
        "1. [Least Squares GAN](https://arxiv.org/abs/1611.04076), 1 балл\n",
        "2. WGAN, 1.5 балла\n",
        "3. WGAN-GP, 2 балла\n",
        "4. VAE, 1.5 балла\n",
        "5. Написать метрику с классфикатором, 2 балла\n",
        "6. Написать обьяснения, 0.5 балла\n",
        "7. Напишите любой достаточно сложный ган (например [отсюда](https://towardsdatascience.com/gan-objective-functions-gans-and-their-variations-ad77340bce3c)), получите до 5 бонусных баллов"
      ]
    },
    {
      "cell_type": "markdown",
      "metadata": {
        "id": "9pmlIv_4R9oF",
        "colab_type": "text"
      },
      "source": [
        "# Данные\n",
        "\n",
        "Сюда можно не смотреть"
      ]
    },
    {
      "cell_type": "code",
      "metadata": {
        "id": "haiP0C5QR9oH",
        "colab_type": "code",
        "colab": {}
      },
      "source": [
        "import requests\n",
        "import re\n",
        "\n",
        "URL_RE = r\"http[s]?://(?:[a-zA-Z]|[0-9]|[$-_@.&+]|[!*\\(\\), ]|(?:%[0-9a-fA-F][0-9a-fA-F]))+\"\n",
        "url_scrabber = re.compile(r'\\s*<input type=\"hidden\" name=\"downloadURL\" '\n",
        "                          'value=\"(?P<download_url>' + URL_RE + ')\" '\n",
        "                          'id=\"downloadURL\">')\n",
        "\n",
        "def get_cernbox_direct_link(url):\n",
        "    guard_page = requests.get(url)\n",
        "    for line in guard_page.text.split('\\n'):\n",
        "        match = url_scrabber.match(line)\n",
        "        if match:\n",
        "            return match.group('download_url')\n",
        "    raise RuntimeError(\"downloadURL not found. Most likely case is a change in CERNBox\")\n"
      ],
      "execution_count": 0,
      "outputs": []
    },
    {
      "cell_type": "code",
      "metadata": {
        "id": "icaJXdKLR9oN",
        "colab_type": "code",
        "colab": {
          "base_uri": "https://localhost:8080/",
          "height": 221
        },
        "outputId": "c306fc8e-30e7-467e-8784-b913ba4bc332"
      },
      "source": [
        "data_url = get_cernbox_direct_link(\"https://cernbox.cern.ch/index.php/s/hWCh4umYQ0KShjW\")\n",
        "DATA_FILE_NAME = './kaons.hdf'\n",
        "!wget \"$data_url\" -O \"$DATA_FILE_NAME\" -nc\n"
      ],
      "execution_count": 3,
      "outputs": [
        {
          "output_type": "stream",
          "text": [
            "--2020-03-26 14:42:58--  https://cernbox.cern.ch/index.php/s/hWCh4umYQ0KShjW/download\n",
            "Resolving cernbox.cern.ch (cernbox.cern.ch)... 128.142.32.38, 128.142.32.26\n",
            "Connecting to cernbox.cern.ch (cernbox.cern.ch)|128.142.32.38|:443... connected.\n",
            "HTTP request sent, awaiting response... 200 OK\n",
            "Length: 388119563 (370M) [application/x-hdf]\n",
            "Saving to: ‘./kaons.hdf’\n",
            "\n",
            "./kaons.hdf         100%[===================>] 370.14M  22.2MB/s    in 17s     \n",
            "\n",
            "Last-modified header invalid -- time-stamp ignored.\n",
            "2020-03-26 14:43:18 (22.4 MB/s) - ‘./kaons.hdf’ saved [388119563/388119563]\n",
            "\n"
          ],
          "name": "stdout"
        }
      ]
    },
    {
      "cell_type": "code",
      "metadata": {
        "id": "vmQLoDM5R9oZ",
        "colab_type": "code",
        "colab": {}
      },
      "source": [
        "%matplotlib inline\n",
        "\n",
        "import matplotlib.pyplot as plt\n",
        "from IPython.display import clear_output\n",
        "import numpy as np\n",
        "import pandas as pd\n",
        "from scipy.stats import ks_2samp\n",
        "from sklearn.model_selection import train_test_split\n",
        "import torch\n",
        "import torch.nn as nn\n",
        "import torch.nn.functional as F\n",
        "import torch.utils.data\n",
        "\n",
        "device = 'cpu'"
      ],
      "execution_count": 0,
      "outputs": []
    },
    {
      "cell_type": "code",
      "metadata": {
        "id": "WaqKDaG4R9oe",
        "colab_type": "code",
        "colab": {
          "base_uri": "https://localhost:8080/",
          "height": 224
        },
        "outputId": "3bdd598e-56f8-4ea1-c050-78cc8665ac33"
      },
      "source": [
        "data = pd.read_hdf(DATA_FILE_NAME)\n",
        "data.head()"
      ],
      "execution_count": 5,
      "outputs": [
        {
          "output_type": "execute_result",
          "data": {
            "text/html": [
              "<div>\n",
              "<style scoped>\n",
              "    .dataframe tbody tr th:only-of-type {\n",
              "        vertical-align: middle;\n",
              "    }\n",
              "\n",
              "    .dataframe tbody tr th {\n",
              "        vertical-align: top;\n",
              "    }\n",
              "\n",
              "    .dataframe thead th {\n",
              "        text-align: right;\n",
              "    }\n",
              "</style>\n",
              "<table border=\"1\" class=\"dataframe\">\n",
              "  <thead>\n",
              "    <tr style=\"text-align: right;\">\n",
              "      <th></th>\n",
              "      <th>dll_electron</th>\n",
              "      <th>dll_kaon</th>\n",
              "      <th>dll_muon</th>\n",
              "      <th>dll_proton</th>\n",
              "      <th>dll_bt</th>\n",
              "      <th>particle_one_energy</th>\n",
              "      <th>particle_two_energy</th>\n",
              "      <th>particle_one_eta</th>\n",
              "      <th>particle_two_eta</th>\n",
              "      <th>particle_one_x</th>\n",
              "      <th>particle_two_x</th>\n",
              "    </tr>\n",
              "  </thead>\n",
              "  <tbody>\n",
              "    <tr>\n",
              "      <th>48609366</th>\n",
              "      <td>-0.212708</td>\n",
              "      <td>2.314453</td>\n",
              "      <td>0.404724</td>\n",
              "      <td>-8.901489</td>\n",
              "      <td>-395.625427</td>\n",
              "      <td>5.761642</td>\n",
              "      <td>7.775553</td>\n",
              "      <td>-0.101042</td>\n",
              "      <td>-1.170546</td>\n",
              "      <td>4.806355</td>\n",
              "      <td>11.518691</td>\n",
              "    </tr>\n",
              "    <tr>\n",
              "      <th>85800802</th>\n",
              "      <td>-0.975586</td>\n",
              "      <td>7.093811</td>\n",
              "      <td>-0.254272</td>\n",
              "      <td>-118.109131</td>\n",
              "      <td>-125.633118</td>\n",
              "      <td>2.952495</td>\n",
              "      <td>4.515579</td>\n",
              "      <td>-1.027812</td>\n",
              "      <td>1.425283</td>\n",
              "      <td>8.347982</td>\n",
              "      <td>12.483961</td>\n",
              "    </tr>\n",
              "    <tr>\n",
              "      <th>48063890</th>\n",
              "      <td>1.210968</td>\n",
              "      <td>1.983414</td>\n",
              "      <td>-0.938339</td>\n",
              "      <td>-3.278305</td>\n",
              "      <td>-201.828049</td>\n",
              "      <td>5.667168</td>\n",
              "      <td>6.883764</td>\n",
              "      <td>0.243560</td>\n",
              "      <td>0.688672</td>\n",
              "      <td>9.765896</td>\n",
              "      <td>1.966456</td>\n",
              "    </tr>\n",
              "    <tr>\n",
              "      <th>6662551</th>\n",
              "      <td>-0.033142</td>\n",
              "      <td>1.237122</td>\n",
              "      <td>0.060791</td>\n",
              "      <td>0.109146</td>\n",
              "      <td>-196.228241</td>\n",
              "      <td>6.988772</td>\n",
              "      <td>4.271856</td>\n",
              "      <td>-1.019691</td>\n",
              "      <td>-0.693035</td>\n",
              "      <td>14.185906</td>\n",
              "      <td>15.605581</td>\n",
              "    </tr>\n",
              "    <tr>\n",
              "      <th>89492993</th>\n",
              "      <td>0.239120</td>\n",
              "      <td>3.052887</td>\n",
              "      <td>-0.522217</td>\n",
              "      <td>-22.034760</td>\n",
              "      <td>-268.287598</td>\n",
              "      <td>5.403506</td>\n",
              "      <td>8.019310</td>\n",
              "      <td>0.975898</td>\n",
              "      <td>1.015718</td>\n",
              "      <td>6.350332</td>\n",
              "      <td>4.286400</td>\n",
              "    </tr>\n",
              "  </tbody>\n",
              "</table>\n",
              "</div>"
            ],
            "text/plain": [
              "          dll_electron  dll_kaon  ...  particle_one_x  particle_two_x\n",
              "48609366     -0.212708  2.314453  ...        4.806355       11.518691\n",
              "85800802     -0.975586  7.093811  ...        8.347982       12.483961\n",
              "48063890      1.210968  1.983414  ...        9.765896        1.966456\n",
              "6662551      -0.033142  1.237122  ...       14.185906       15.605581\n",
              "89492993      0.239120  3.052887  ...        6.350332        4.286400\n",
              "\n",
              "[5 rows x 11 columns]"
            ]
          },
          "metadata": {
            "tags": []
          },
          "execution_count": 5
        }
      ]
    },
    {
      "cell_type": "code",
      "metadata": {
        "id": "vWTwgxP0R9oj",
        "colab_type": "code",
        "colab": {}
      },
      "source": [
        "X_COLUMNS = [\"particle_one_energy\",\n",
        "             \"particle_two_energy\",\n",
        "             \"particle_one_eta\",\n",
        "             \"particle_two_eta\",\n",
        "             \"particle_one_x\",\n",
        "             \"particle_two_x\"]\n",
        "Y_COLUMNS = [\"dll_electron\",\n",
        "             \"dll_kaon\",\n",
        "             \"dll_muon\",\n",
        "             \"dll_proton\",\n",
        "             \"dll_bt\"]\n",
        "assert Y_COLUMNS + X_COLUMNS == list(data.columns)\n",
        "HIST_BINS=100"
      ],
      "execution_count": 0,
      "outputs": []
    },
    {
      "cell_type": "code",
      "metadata": {
        "id": "9gZMf1hHR9os",
        "colab_type": "code",
        "colab": {
          "base_uri": "https://localhost:8080/",
          "height": 276
        },
        "outputId": "21b772f6-8a1e-46d7-e3d5-52b0540316a6"
      },
      "source": [
        "from sklearn.preprocessing import QuantileTransformer\n",
        "data_transformed = []\n",
        "for column in data:\n",
        "    qt = QuantileTransformer(output_distribution='normal')\n",
        "    data_transformed.append(np.array(qt.fit_transform(pd.DataFrame(data[column]))).reshape(10000000))\n",
        "data_transformed = np.array(data_transformed)\n",
        "data_transformed = data_transformed.T\n",
        "# Please use the sklearn.preprocessing.QuantileTransformer to transform each feature\n",
        "# into a Gaussian\n",
        "plt.hist(data.values[:, 0], bins=HIST_BINS);"
      ],
      "execution_count": 7,
      "outputs": [
        {
          "output_type": "display_data",
          "data": {
            "image/png": "[encoded data removed]",
            "text/plain": [
              "<Figure size 432x288 with 1 Axes>"
            ]
          },
          "metadata": {
            "tags": []
          }
        }
      ]
    },
    {
      "cell_type": "markdown",
      "metadata": {
        "id": "hx-GU75eR9o7",
        "colab_type": "text"
      },
      "source": [
        "Результат должен выглядеть как-то так:\n",
        "![image.png](https://github.com/yandexdataschool/mlhep2019/raw/master/notebooks/day-6/gauss.png)"
      ]
    },
    {
      "cell_type": "code",
      "metadata": {
        "id": "jHdUPgNpR9o8",
        "colab_type": "code",
        "colab": {
          "base_uri": "https://localhost:8080/",
          "height": 265
        },
        "outputId": "2c5b6935-1f96-4adc-9ea7-7f8ffc1ed5f6"
      },
      "source": [
        "plt.hist(data_transformed[:, 0], bins=HIST_BINS);"
      ],
      "execution_count": 8,
      "outputs": [
        {
          "output_type": "display_data",
          "data": {
            "image/png": "[encoded data removed]",
            "text/plain": [
              "<Figure size 432x288 with 1 Axes>"
            ]
          },
          "metadata": {
            "tags": []
          }
        }
      ]
    },
    {
      "cell_type": "code",
      "metadata": {
        "id": "mzYqgfWDR9pA",
        "colab_type": "code",
        "colab": {}
      },
      "source": [
        "train, test = train_test_split(data_transformed, test_size=0.1)\n",
        "LATENT_DIM = 64 # Размерность \"шума\"\n"
      ],
      "execution_count": 0,
      "outputs": []
    },
    {
      "cell_type": "markdown",
      "metadata": {
        "id": "bSLcTgT6R9pG",
        "colab_type": "text"
      },
      "source": [
        "Здесь нашим генератором и дискриминатором может быть любая полносвязная сеть.\n",
        "\n",
        "По желанию можно использовать шедулер :)"
      ]
    },
    {
      "cell_type": "code",
      "metadata": {
        "id": "x7Vk-6glR9pH",
        "colab_type": "code",
        "colab": {}
      },
      "source": [
        "from torch.optim.lr_scheduler import StepLR\n",
        "gen = nn.Sequential(\n",
        "        nn.Linear(LATENT_DIM + len(X_COLUMNS), 128),\n",
        "        nn.LeakyReLU(),\n",
        "        nn.Linear(128, 64),\n",
        "        nn.LeakyReLU(),\n",
        "        nn.Linear(64, 32),\n",
        "        nn.LeakyReLU(),\n",
        "        nn.Linear(32, len(Y_COLUMNS)),\n",
        "    ).to(device)\n",
        "gen_opt = torch.optim.RMSprop(gen.parameters(), lr=1e-2)\n",
        "gen_scheduler = StepLR(gen_opt, 800, gamma=0.95)\n",
        "\n",
        "assert gen[0].in_features == LATENT_DIM + len(X_COLUMNS)\n",
        "assert gen[-1].out_features == len(Y_COLUMNS)"
      ],
      "execution_count": 0,
      "outputs": []
    },
    {
      "cell_type": "code",
      "metadata": {
        "id": "gF7Q2I5KR9pK",
        "colab_type": "code",
        "colab": {}
      },
      "source": [
        "disc = nn.Sequential(\n",
        "        nn.Linear(data.shape[1], 128),\n",
        "        nn.LeakyReLU(),\n",
        "        nn.Linear(128, 64),\n",
        "        nn.LeakyReLU(),\n",
        "        nn.Linear(64, 32),\n",
        "        nn.LeakyReLU(),\n",
        "        nn.Linear(32, 1)\n",
        "    ).to(device)\n",
        "disc_opt = torch.optim.RMSprop(disc.parameters(), lr=1e-2)\n",
        "disc_scheduler = disc_scheduler = StepLR(disc_opt, 800, gamma=0.95)\n",
        "\n",
        "\n",
        "assert disc[0].in_features == data.shape[1]\n",
        "assert disc[-1].out_features == 1"
      ],
      "execution_count": 0,
      "outputs": []
    },
    {
      "cell_type": "code",
      "metadata": {
        "id": "P0XmuomQR9pN",
        "colab_type": "code",
        "colab": {}
      },
      "source": [
        "TRAIN_BATCH_SIZE = 1024\n",
        "\n",
        "def sample_real_data(batch_size):\n",
        "    \"\"\"\n",
        "    Inifintly repeats and shuffles the train dataset, outputs the\n",
        "    result in delicious batches.\n",
        "    \"\"\"\n",
        "    while True:\n",
        "        dataloader = torch.utils.data.DataLoader(train,\n",
        "                                                 batch_size=batch_size,\n",
        "                                                 shuffle=True, drop_last=True)\n",
        "        for batch in dataloader:\n",
        "            yield batch\n",
        "            \n",
        "infinite_data = sample_real_data(TRAIN_BATCH_SIZE)\n"
      ],
      "execution_count": 0,
      "outputs": []
    },
    {
      "cell_type": "code",
      "metadata": {
        "id": "r2Q5i8ZPR9pR",
        "colab_type": "code",
        "colab": {}
      },
      "source": [
        "# Эта функция семплит данные из вашего генератора\n",
        "# Принимает на вход x (condition) \n",
        "# Возвращает concat(gen_y, x)\n",
        "\n",
        "def sample_gen_data(x):\n",
        "    size = x.shape[0]\n",
        "    noise = torch.randn(size, LATENT_DIM, device=device)\n",
        "    gen_input = torch.cat([noise, x], dim=1)\n",
        "    return torch.cat([gen(gen_input), x], dim=1)\n"
      ],
      "execution_count": 0,
      "outputs": []
    },
    {
      "cell_type": "code",
      "metadata": {
        "id": "G-nUfaKmR9pa",
        "colab_type": "code",
        "colab": {}
      },
      "source": [
        "test_sample = sample_gen_data(torch.from_numpy(train[:3, len(Y_COLUMNS):]).to(device))\n",
        "assert test_sample.shape == (3, data.shape[1])"
      ],
      "execution_count": 0,
      "outputs": []
    },
    {
      "cell_type": "code",
      "metadata": {
        "id": "fhypATBsR9pc",
        "colab_type": "code",
        "colab": {}
      },
      "source": [
        "# https://github.com/caogang/wgan-gp/blob/master/gan_mnist.py\n",
        "\n",
        "def calc_gradient_penalty_classic(critic:torch.nn.Module,\n",
        "                                  real_data:torch.Tensor,\n",
        "                                  fake_data:torch.Tensor):\n",
        "    \"\"\"\n",
        "    Computes Gradient Penalty in random interpolates, in its classic form:\n",
        "    (|∇(D(x)|^2 - 1)^2, x is interpolated between a real and a generated sample\n",
        "    Args:\n",
        "      critic: a torch model which gradient needs to be penalised\n",
        "      real_data[batch_size, n_features]: a sample of real data\n",
        "      fake_data[batch_size, n_features]: a sample of fake data\n",
        "    Returns:\n",
        "      torch.Tensor, scalar, gradient penalty evalute\n",
        "    \"\"\"\n",
        "    assert real_data.shape == fake_data.shape\n",
        "    alpha = torch.rand(real_data.shape[0], 1)\n",
        "    alpha = alpha.expand(real_data.size()).to(device)\n",
        "\n",
        "    interpolates = (alpha * real_data + ((1 - alpha) * fake_data)).to(device)\n",
        "    interpolates = torch.autograd.Variable(interpolates, requires_grad=True)\n",
        "\n",
        "    disc_interpolates = critic(interpolates)\n",
        "\n",
        "    gradients = torch.autograd.grad(\n",
        "        outputs=disc_interpolates, inputs=interpolates,\n",
        "        grad_outputs=torch.ones(disc_interpolates.size(), device=device),\n",
        "        create_graph=True, retain_graph=True, only_inputs=True)[0]\n",
        "\n",
        "    gradient_penalty = ((gradients.norm(2, dim=1) - 1) ** 2).mean()\n",
        "    return gradient_penalty"
      ],
      "execution_count": 0,
      "outputs": []
    },
    {
      "cell_type": "code",
      "metadata": {
        "id": "gyYro_VXR9pg",
        "colab_type": "code",
        "colab": {}
      },
      "source": [
        "LAMBDA = 1. # for gradient-penalty\n",
        "def train_disc(gan_type):\n",
        "    \"\"\"\n",
        "    Trains the discriminator for one step. Please note\n",
        "    this is not a pure function, it captutes the majority of variables\n",
        "    from the context.\n",
        "    \"\"\"\n",
        "    real_data = next(infinite_data).to(device)\n",
        "    x_gen = next(infinite_data)[:, len(Y_COLUMNS):].to(device)\n",
        "    gen_data = sample_gen_data(x_gen)\n",
        "    # Загуглил функции потерь для разных ганов и написал\n",
        "    if gan_type == \"JS\":\n",
        "        disc_loss = torch.log(torch.mean(-disc(real_data))) - torch.log(torch.mean((-disc(gen_data) + 1)))\n",
        "    elif gan_type == \"WGAN\":\n",
        "        disc_loss = torch.mean(disc(gen_data)) - torch.mean(disc(real_data))\n",
        "    elif gan_type == \"LSGAN\":\n",
        "        disc_loss = torch.mean(disc(gen_data) ** 2) + torch.mean((1 - disc(real_data)) ** 2)\n",
        "    elif gan_type == \"WGAN-GP\":\n",
        "        disc_loss = torch.mean(disc(gen_data)) - torch.mean(disc(real_data)) + LAMBDA * calc_gradient_penalty_classic(disc, real_data, gen_data)\n",
        "    else:\n",
        "        raise ValueError(\"Unknown GAN type. Valid ones are: JS, WGAN-GP, WGAN, LSGAN\")\n",
        "    \n",
        "    disc_opt.zero_grad()\n",
        "    disc_loss.backward()\n",
        "    disc_opt.step()\n",
        "    return disc_loss"
      ],
      "execution_count": 0,
      "outputs": []
    },
    {
      "cell_type": "code",
      "metadata": {
        "id": "yhgjnB2rR9pl",
        "colab_type": "code",
        "colab": {}
      },
      "source": [
        "def train_gen(gan_type):\n",
        "    gen_data = sample_gen_data(next(infinite_data)[:, len(Y_COLUMNS):].to(device))\n",
        "    # Для генераторов тоже выписываем функции потерь\n",
        "    if gan_type == \"JS\":\n",
        "        gen_loss = torch.mean((1 - disc(gen_data)).log())\n",
        "    elif gan_type == \"WGAN\":\n",
        "        gen_loss = torch.mean(-disc(gen_data))\n",
        "    elif gan_type == \"LSGAN\":\n",
        "        gen_loss = torch.mean((1 - disc(gen_data)) ** 2)\n",
        "    elif gan_type == \"WGAN-GP\":\n",
        "        gen_loss = torch.mean(-disc(gen_data))\n",
        "    else:\n",
        "        raise ValueError(\"Unknown GAN type. Valid ones are: JS, WGAN-GP, WGAN, LSGAN\")\n",
        "        \n",
        "    gen_opt.zero_grad()\n",
        "    gen_loss.backward()\n",
        "    gen_opt.step()\n",
        "    return gen_loss"
      ],
      "execution_count": 0,
      "outputs": []
    },
    {
      "cell_type": "code",
      "metadata": {
        "id": "IcLUBsbdR9pv",
        "colab_type": "code",
        "colab": {
          "base_uri": "https://localhost:8080/",
          "height": 51
        },
        "outputId": "d850aa8b-3b62-46ae-c142-a5524eda01e6"
      },
      "source": [
        "experiment = Experiment(api_key=\"K5gK6ije55t8lsttg7cesT5hy\", project_name=\"gan\", workspace=\"gosha6037\")"
      ],
      "execution_count": 19,
      "outputs": [
        {
          "output_type": "stream",
          "text": [
            "COMET INFO: Experiment is live on comet.ml https://www.comet.ml/gosha6037/gan/5632a21e110f42bea367953b48901e8b\n",
            "\n"
          ],
          "name": "stderr"
        }
      ]
    },
    {
      "cell_type": "code",
      "metadata": {
        "id": "VNCnBV1lR9pz",
        "colab_type": "code",
        "colab": {}
      },
      "source": [
        "DISCRIMINATOR_ITERATIONS_PER_GENEREATOR = 5\n",
        "VALIDATION_INTERVAL = 100\n",
        "DATA_HIST_RANGE=[-5, 5]"
      ],
      "execution_count": 0,
      "outputs": []
    },
    {
      "cell_type": "code",
      "metadata": {
        "id": "qzhwlx01R9p6",
        "colab_type": "code",
        "colab": {}
      },
      "source": [
        "data_linspace_np = np.linspace(0, 10, num=256, dtype=np.float32)\n",
        "data_linspace_torch = torch.from_numpy(data_linspace_np)[:, None].to(device)\n",
        "validation_data = torch.from_numpy(test).to(device)\n",
        "validation_data_np = test\n",
        "validation_x = validation_data[:, len(Y_COLUMNS):]"
      ],
      "execution_count": 0,
      "outputs": []
    },
    {
      "cell_type": "code",
      "metadata": {
        "id": "DMpgt9npR9p9",
        "colab_type": "code",
        "colab": {}
      },
      "source": [
        "def going_model(model, steps=100000):\n",
        "    for i in range(steps):\n",
        "        gen_scheduler.step()\n",
        "        disc_scheduler.step()\n",
        "        for _ in range(DISCRIMINATOR_ITERATIONS_PER_GENEREATOR):\n",
        "            disc_loss_this_iter = train_disc(model)\n",
        "        \n",
        "        gen_loss_this_iter = train_gen(model)\n",
        "        experiment.log_metric('loss/discriminator', disc_loss_this_iter.item(), step=i)\n",
        "        experiment.log_metric('loss/generator', gen_loss_this_iter.item(), step=i)\n",
        "\n",
        "        if i % VALIDATION_INTERVAL == 0:\n",
        "            clear_output(True)\n",
        "            print('Processing...', i, 'out of', steps, 'completed')     \n",
        "            validation_generated = sample_gen_data(validation_x)\n",
        "            validation_generated_np = validation_generated.data.cpu().numpy()\n",
        "            out = validation_generated_np\n",
        "            \n",
        "            fig, axes_list = plt.subplots(ncols=5, figsize=[6*len(Y_COLUMNS), 6])\n",
        "            for index, ax in enumerate(axes_list):\n",
        "                ax.hist(validation_generated_np[:, index], range=DATA_HIST_RANGE,\n",
        "                    alpha=0.5, density=True, label='Generated', bins=HIST_BINS)\n",
        "                ax.hist(validation_data_np[:, index], range=DATA_HIST_RANGE,\n",
        "                    alpha=0.5, density=True, label='Real', bins=HIST_BINS)\n",
        "                ax.set_xlabel(data.columns[index])\n",
        "                ks_result = ks_2samp(validation_generated_np[:, index],\n",
        "                                        validation_data_np[:, index])\n",
        "                ax.set_title(\"KS stat = {:.4f}; p-value = {:.4E}\".format(*tuple(ks_result)))\n",
        "            fig.suptitle(\"Iteration {}\".format(i))\n",
        "            plt.show()"
      ],
      "execution_count": 0,
      "outputs": []
    },
    {
      "cell_type": "markdown",
      "metadata": {
        "id": "EuhBKBFagC1B",
        "colab_type": "text"
      },
      "source": [
        "Ниже у нас JS GAN, как видно он не оч хорошо справился с задачей, но все же было дано не так много эпох, при устремлении их к миллиону результат становиться выше. Как видно результат далеко не всегда отцентрирован."
      ]
    },
    {
      "cell_type": "code",
      "metadata": {
        "id": "o_PCQ_WJR9qA",
        "colab_type": "code",
        "colab": {
          "base_uri": "https://localhost:8080/",
          "height": 469
        },
        "outputId": "917993a3-0852-4340-81cf-2fbb14586fe1"
      },
      "source": [
        "going_model('JS', steps=10000)"
      ],
      "execution_count": 23,
      "outputs": [
        {
          "output_type": "stream",
          "text": [
            "Processing... 9900 out of 10000 completed\n"
          ],
          "name": "stdout"
        },
        {
          "output_type": "display_data",
          "data": {
            "image/png": "[encoded data removed]",
            "text/plain": [
              "<Figure size 2160x432 with 5 Axes>"
            ]
          },
          "metadata": {
            "tags": []
          }
        }
      ]
    },
    {
      "cell_type": "markdown",
      "metadata": {
        "id": "KivEPBglTzVN",
        "colab_type": "text"
      },
      "source": [
        "Как можно видеть нижке, качество у WGAN значительно лучше, и даже за такое маленько число операций почти покрывает. Кстати когда устремлял число операций к ляму перекрытие было почти полное.\n",
        "Собственно на 10000 тут получился лучший результат."
      ]
    },
    {
      "cell_type": "code",
      "metadata": {
        "id": "r3SLmsm0Ty6p",
        "colab_type": "code",
        "colab": {
          "base_uri": "https://localhost:8080/",
          "height": 469
        },
        "outputId": "2d616a58-95d9-46c4-f4fd-4808905de6d7"
      },
      "source": [
        "going_model('WGAN', steps=10000)"
      ],
      "execution_count": 25,
      "outputs": [
        {
          "output_type": "stream",
          "text": [
            "Processing... 9900 out of 10000 completed\n"
          ],
          "name": "stdout"
        },
        {
          "output_type": "display_data",
          "data": {
            "image/png": "[encoded data removed]",
            "text/plain": [
              "<Figure size 2160x432 with 5 Axes>"
            ]
          },
          "metadata": {
            "tags": []
          }
        }
      ]
    },
    {
      "cell_type": "markdown",
      "metadata": {
        "id": "joUBVDmyhXXF",
        "colab_type": "text"
      },
      "source": [
        "LSGAN вообще получился самый точный по метрике ROC AUC для классификатора, но сейчас при обучении на 10000 не такой уж и васокий результат."
      ]
    },
    {
      "cell_type": "code",
      "metadata": {
        "id": "ytZWvNS6TrvE",
        "colab_type": "code",
        "colab": {
          "base_uri": "https://localhost:8080/",
          "height": 469
        },
        "outputId": "632c0833-2e3e-43bb-8423-b8ac301e5214"
      },
      "source": [
        "going_model('LSGAN', steps=10000)"
      ],
      "execution_count": 27,
      "outputs": [
        {
          "output_type": "stream",
          "text": [
            "Processing... 9900 out of 10000 completed\n"
          ],
          "name": "stdout"
        },
        {
          "output_type": "display_data",
          "data": {
            "image/png": "[encoded data removed]",
            "text/plain": [
              "<Figure size 2160x432 with 5 Axes>"
            ]
          },
          "metadata": {
            "tags": []
          }
        }
      ]
    },
    {
      "cell_type": "markdown",
      "metadata": {
        "id": "NLaDt1AUhk0L",
        "colab_type": "text"
      },
      "source": [
        "WGAN-GP 5700 лучше чем WGAN по метрике, но хуже LSGAN при обучении на 100000. Но на 10000 как видно результаты не сильно лучше LSGAN, Обучил чуть меньше так как хотел сдать пораньше."
      ]
    },
    {
      "cell_type": "code",
      "metadata": {
        "id": "x6oT6D2DT8fQ",
        "colab_type": "code",
        "colab": {
          "base_uri": "https://localhost:8080/",
          "height": 758
        },
        "outputId": "4b916ace-7c96-4bbd-8448-b460d3c3a893"
      },
      "source": [
        "going_model('WGAN-GP', steps=10000)"
      ],
      "execution_count": 29,
      "outputs": [
        {
          "output_type": "stream",
          "text": [
            "Processing... 5700 out of 10000 completed\n"
          ],
          "name": "stdout"
        },
        {
          "output_type": "display_data",
          "data": {
            "image/png": "[encoded data removed]",
            "text/plain": [
              "<Figure size 2160x432 with 5 Axes>"
            ]
          },
          "metadata": {
            "tags": []
          }
        },
        {
          "output_type": "error",
          "ename": "KeyboardInterrupt",
          "evalue": "ignored",
          "traceback": [
            "\u001b[0;31m---------------------------------------------------------------------------\u001b[0m",
            "\u001b[0;31mKeyboardInterrupt\u001b[0m                         Traceback (most recent call last)",
            "\u001b[0;32m<ipython-input-29-778a8f48e818>\u001b[0m in \u001b[0;36m<module>\u001b[0;34m()\u001b[0m\n\u001b[0;32m----> 1\u001b[0;31m \u001b[0mgoing_model\u001b[0m\u001b[0;34m(\u001b[0m\u001b[0;34m'WGAN-GP'\u001b[0m\u001b[0;34m,\u001b[0m \u001b[0msteps\u001b[0m\u001b[0;34m=\u001b[0m\u001b[0;36m10000\u001b[0m\u001b[0;34m)\u001b[0m\u001b[0;34m\u001b[0m\u001b[0;34m\u001b[0m\u001b[0m\n\u001b[0m",
            "\u001b[0;32m<ipython-input-22-5c3795e9e08e>\u001b[0m in \u001b[0;36mgoing_model\u001b[0;34m(model, steps)\u001b[0m\n\u001b[1;32m      6\u001b[0m             \u001b[0mdisc_loss_this_iter\u001b[0m \u001b[0;34m=\u001b[0m \u001b[0mtrain_disc\u001b[0m\u001b[0;34m(\u001b[0m\u001b[0mmodel\u001b[0m\u001b[0;34m)\u001b[0m\u001b[0;34m\u001b[0m\u001b[0;34m\u001b[0m\u001b[0m\n\u001b[1;32m      7\u001b[0m \u001b[0;34m\u001b[0m\u001b[0m\n\u001b[0;32m----> 8\u001b[0;31m         \u001b[0mgen_loss_this_iter\u001b[0m \u001b[0;34m=\u001b[0m \u001b[0mtrain_gen\u001b[0m\u001b[0;34m(\u001b[0m\u001b[0mmodel\u001b[0m\u001b[0;34m)\u001b[0m\u001b[0;34m\u001b[0m\u001b[0;34m\u001b[0m\u001b[0m\n\u001b[0m\u001b[1;32m      9\u001b[0m         \u001b[0mexperiment\u001b[0m\u001b[0;34m.\u001b[0m\u001b[0mlog_metric\u001b[0m\u001b[0;34m(\u001b[0m\u001b[0;34m'loss/discriminator'\u001b[0m\u001b[0;34m,\u001b[0m \u001b[0mdisc_loss_this_iter\u001b[0m\u001b[0;34m.\u001b[0m\u001b[0mitem\u001b[0m\u001b[0;34m(\u001b[0m\u001b[0;34m)\u001b[0m\u001b[0;34m,\u001b[0m \u001b[0mstep\u001b[0m\u001b[0;34m=\u001b[0m\u001b[0mi\u001b[0m\u001b[0;34m)\u001b[0m\u001b[0;34m\u001b[0m\u001b[0;34m\u001b[0m\u001b[0m\n\u001b[1;32m     10\u001b[0m         \u001b[0mexperiment\u001b[0m\u001b[0;34m.\u001b[0m\u001b[0mlog_metric\u001b[0m\u001b[0;34m(\u001b[0m\u001b[0;34m'loss/generator'\u001b[0m\u001b[0;34m,\u001b[0m \u001b[0mgen_loss_this_iter\u001b[0m\u001b[0;34m.\u001b[0m\u001b[0mitem\u001b[0m\u001b[0;34m(\u001b[0m\u001b[0;34m)\u001b[0m\u001b[0;34m,\u001b[0m \u001b[0mstep\u001b[0m\u001b[0;34m=\u001b[0m\u001b[0mi\u001b[0m\u001b[0;34m)\u001b[0m\u001b[0;34m\u001b[0m\u001b[0;34m\u001b[0m\u001b[0m\n",
            "\u001b[0;32m<ipython-input-18-1fdbc3be66d7>\u001b[0m in \u001b[0;36mtrain_gen\u001b[0;34m(gan_type)\u001b[0m\n\u001b[1;32m     14\u001b[0m \u001b[0;34m\u001b[0m\u001b[0m\n\u001b[1;32m     15\u001b[0m     \u001b[0mgen_opt\u001b[0m\u001b[0;34m.\u001b[0m\u001b[0mzero_grad\u001b[0m\u001b[0;34m(\u001b[0m\u001b[0;34m)\u001b[0m\u001b[0;34m\u001b[0m\u001b[0;34m\u001b[0m\u001b[0m\n\u001b[0;32m---> 16\u001b[0;31m     \u001b[0mgen_loss\u001b[0m\u001b[0;34m.\u001b[0m\u001b[0mbackward\u001b[0m\u001b[0;34m(\u001b[0m\u001b[0;34m)\u001b[0m\u001b[0;34m\u001b[0m\u001b[0;34m\u001b[0m\u001b[0m\n\u001b[0m\u001b[1;32m     17\u001b[0m     \u001b[0mgen_opt\u001b[0m\u001b[0;34m.\u001b[0m\u001b[0mstep\u001b[0m\u001b[0;34m(\u001b[0m\u001b[0;34m)\u001b[0m\u001b[0;34m\u001b[0m\u001b[0;34m\u001b[0m\u001b[0m\n\u001b[1;32m     18\u001b[0m     \u001b[0;32mreturn\u001b[0m \u001b[0mgen_loss\u001b[0m\u001b[0;34m\u001b[0m\u001b[0;34m\u001b[0m\u001b[0m\n",
            "\u001b[0;32m/usr/local/lib/python3.6/dist-packages/comet_ml/monkey_patching.py\u001b[0m in \u001b[0;36mwrapper\u001b[0;34m(*args, **kwargs)\u001b[0m\n\u001b[1;32m    290\u001b[0m                     )\n\u001b[1;32m    291\u001b[0m \u001b[0;34m\u001b[0m\u001b[0m\n\u001b[0;32m--> 292\u001b[0;31m         \u001b[0mreturn_value\u001b[0m \u001b[0;34m=\u001b[0m \u001b[0moriginal\u001b[0m\u001b[0;34m(\u001b[0m\u001b[0;34m*\u001b[0m\u001b[0margs\u001b[0m\u001b[0;34m,\u001b[0m \u001b[0;34m**\u001b[0m\u001b[0mkwargs\u001b[0m\u001b[0;34m)\u001b[0m\u001b[0;34m\u001b[0m\u001b[0;34m\u001b[0m\u001b[0m\n\u001b[0m\u001b[1;32m    293\u001b[0m \u001b[0;34m\u001b[0m\u001b[0m\n\u001b[1;32m    294\u001b[0m         \u001b[0;31m# Call after callbacks once we have the return value\u001b[0m\u001b[0;34m\u001b[0m\u001b[0;34m\u001b[0m\u001b[0;34m\u001b[0m\u001b[0m\n",
            "\u001b[0;32m/usr/local/lib/python3.6/dist-packages/torch/tensor.py\u001b[0m in \u001b[0;36mbackward\u001b[0;34m(self, gradient, retain_graph, create_graph)\u001b[0m\n\u001b[1;32m    193\u001b[0m                 \u001b[0mproducts\u001b[0m\u001b[0;34m.\u001b[0m \u001b[0mDefaults\u001b[0m \u001b[0mto\u001b[0m\u001b[0;31m \u001b[0m\u001b[0;31m`\u001b[0m\u001b[0;31m`\u001b[0m\u001b[0;32mFalse\u001b[0m\u001b[0;31m`\u001b[0m\u001b[0;31m`\u001b[0m\u001b[0;34m.\u001b[0m\u001b[0;34m\u001b[0m\u001b[0;34m\u001b[0m\u001b[0m\n\u001b[1;32m    194\u001b[0m         \"\"\"\n\u001b[0;32m--> 195\u001b[0;31m         \u001b[0mtorch\u001b[0m\u001b[0;34m.\u001b[0m\u001b[0mautograd\u001b[0m\u001b[0;34m.\u001b[0m\u001b[0mbackward\u001b[0m\u001b[0;34m(\u001b[0m\u001b[0mself\u001b[0m\u001b[0;34m,\u001b[0m \u001b[0mgradient\u001b[0m\u001b[0;34m,\u001b[0m \u001b[0mretain_graph\u001b[0m\u001b[0;34m,\u001b[0m \u001b[0mcreate_graph\u001b[0m\u001b[0;34m)\u001b[0m\u001b[0;34m\u001b[0m\u001b[0;34m\u001b[0m\u001b[0m\n\u001b[0m\u001b[1;32m    196\u001b[0m \u001b[0;34m\u001b[0m\u001b[0m\n\u001b[1;32m    197\u001b[0m     \u001b[0;32mdef\u001b[0m \u001b[0mregister_hook\u001b[0m\u001b[0;34m(\u001b[0m\u001b[0mself\u001b[0m\u001b[0;34m,\u001b[0m \u001b[0mhook\u001b[0m\u001b[0;34m)\u001b[0m\u001b[0;34m:\u001b[0m\u001b[0;34m\u001b[0m\u001b[0;34m\u001b[0m\u001b[0m\n",
            "\u001b[0;32m/usr/local/lib/python3.6/dist-packages/torch/autograd/__init__.py\u001b[0m in \u001b[0;36mbackward\u001b[0;34m(tensors, grad_tensors, retain_graph, create_graph, grad_variables)\u001b[0m\n\u001b[1;32m     97\u001b[0m     Variable._execution_engine.run_backward(\n\u001b[1;32m     98\u001b[0m         \u001b[0mtensors\u001b[0m\u001b[0;34m,\u001b[0m \u001b[0mgrad_tensors\u001b[0m\u001b[0;34m,\u001b[0m \u001b[0mretain_graph\u001b[0m\u001b[0;34m,\u001b[0m \u001b[0mcreate_graph\u001b[0m\u001b[0;34m,\u001b[0m\u001b[0;34m\u001b[0m\u001b[0;34m\u001b[0m\u001b[0m\n\u001b[0;32m---> 99\u001b[0;31m         allow_unreachable=True)  # allow_unreachable flag\n\u001b[0m\u001b[1;32m    100\u001b[0m \u001b[0;34m\u001b[0m\u001b[0m\n\u001b[1;32m    101\u001b[0m \u001b[0;34m\u001b[0m\u001b[0m\n",
            "\u001b[0;31mKeyboardInterrupt\u001b[0m: "
          ]
        }
      ]
    },
    {
      "cell_type": "markdown",
      "metadata": {
        "id": "fXxg9BDX0_QD",
        "colab_type": "text"
      },
      "source": [
        "Решил для классификации использоавать LogisticRegression так как за качеством я не гонюсь, а это простой и легкий алгоритм"
      ]
    },
    {
      "cell_type": "code",
      "metadata": {
        "id": "DxTVXrCCT8mp",
        "colab_type": "code",
        "colab": {
          "base_uri": "https://localhost:8080/",
          "height": 34
        },
        "outputId": "f02691ee-553a-4e04-b463-c124526073bf"
      },
      "source": [
        "from xgboost import XGBClassifier\n",
        "from sklearn.metrics import roc_auc_score\n",
        "from sklearn.ensemble import RandomForestClassifier\n",
        "from sklearn.linear_model import LogisticRegression\n",
        "size = validation_x.shape[0]\n",
        "true = np.array(train[:size])\n",
        "false = np.array(sample_gen_data(validation_x).detach())\n",
        "X = np.concatenate([true, false])\n",
        "y = []\n",
        "for _ in range(size):\n",
        "    y.append(0)\n",
        "for _ in range(size):\n",
        "    y.append(1)\n",
        "y = np.array(y).reshape(-1)\n",
        "X_train, X_test = train_test_split(X)\n",
        "y_train, y_test = train_test_split(y)\n",
        "lr = LogisticRegression()\n",
        "lr.fit(X_train, y_train)\n",
        "roc_auc_score(y_tst, lr.predict_proba(X_test)[:,1])"
      ],
      "execution_count": 31,
      "outputs": [
        {
          "output_type": "stream",
          "text": [
            "0.64156735687\n"
          ],
          "name": "stdout"
        }
      ]
    },
    {
      "cell_type": "markdown",
      "metadata": {
        "id": "BdYV4yiGR9qD",
        "colab_type": "text"
      },
      "source": [
        "### Метрика с классификатором, 2 балла\n",
        "\n",
        "Одним из возможных способов подсчета качества вашего гана является качество классификатора обученного на разделение реальных и сгенерированных данных.\n",
        "\n",
        "1. Возьмите модель, например catboost, xgboost или lightgbm\n",
        "2. Сгененируйте достаточно большие выборки из реальных и сгенерированных данных (для каждой построенной вами модели)\n",
        "3. Обучите модель на бинарную классификацию\n",
        "4. Посчитайте ROC AUC модели, чем ближе к 0.5, тем лучше"
      ]
    },
    {
      "cell_type": "markdown",
      "metadata": {
        "id": "XSW74zKcR9qH",
        "colab_type": "text"
      },
      "source": [
        "### Обьяснения, 0.5 балла\n",
        "\n",
        "1. Напишите, почему для одних ганов метрика выше чем для других.\n",
        "2. Напишите как можно было бы улучшить те ганы которые у вас есть. \n",
        "3. Напишите, какие бы еще модели тут можно было бы попробовать"
      ]
    },
    {
      "cell_type": "markdown",
      "metadata": {
        "id": "_dvSf2GWUIy0",
        "colab_type": "text"
      },
      "source": [
        "1) Вообще так грубо сравнивать не совсем корректно, тк некоторые ганы требуют тщательную настройку парметров, а некоторые так заводяятся. Но в целом разные ганы оптимизируют разное расстояние меж плотностями распределений и по разному ведут на крайних точках, потому каждый из них имеет какие-то сильные и слабые стороны.\n",
        "\n",
        "2) Можно импользовать не жесткие метки, вместо 0 и 1 брать 0.1 и 0.9.\n",
        "Можно хранить дополнительно примеры на готорых дискреминатор плохой ответ давал (из сгенерированных) и иногда ему закидывать.\n",
        "Можно использовать нормирование, по батчу или группе например, или минибатч для дискреминатора. Можно добавить регуляризацию, увеличить число слоев или архитектуру сетей, тщательно подобрать параметры.\n",
        "\n",
        "3) Можно еще попробовать и сравнить: BEGAN, DRGAN MM GAN, NS GAN также можно сравнить с VAE"
      ]
    }
  ]
}